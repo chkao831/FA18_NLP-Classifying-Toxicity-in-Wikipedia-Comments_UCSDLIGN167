{
 "cells": [
  {
   "cell_type": "code",
   "execution_count": 1,
   "metadata": {
    "collapsed": true
   },
   "outputs": [],
   "source": [
    "import numpy as np\n",
    "import pandas as pd\n",
    "import bcolz as bz\n",
    "import pickle\n",
    "import torch\n",
    "import torch.nn as nn\n",
    "import torch.nn.functional as F\n",
    "from torch.nn.utils.rnn import pack_padded_sequence, pad_packed_sequence\n",
    "from torch.autograd import Variable\n",
    "import time\n",
    "from sklearn import metrics\n",
    "from sklearn.metrics import roc_curve\n",
    "from sklearn.metrics import auc"
   ]
  },
  {
   "cell_type": "code",
   "execution_count": 2,
   "metadata": {
    "collapsed": true
   },
   "outputs": [],
   "source": [
    "def divide_string(sentence):\n",
    "    s_l = sentence.split()\n",
    "    r_l = []\n",
    "    punc = [ '?', '!', '*']\n",
    "    delete = ['%','^','&','_','>','<','\\\\','$', '+', '~','`', ',', '.', ';',\n",
    "              '#', '@', '(', ')', '[' , ']', '/', '|', '{', '}', '\"', '-', '=']\n",
    "    for i in range(len(s_l)):\n",
    "        tmp = 0\n",
    "        flag = True;\n",
    "        for j in range(len(s_l[i])):\n",
    "            if s_l[i][j] in punc:\n",
    "                if(flag):\n",
    "                    r_l.append(s_l[i][tmp : j])\n",
    "                tmp = j\n",
    "                flag = True\n",
    "            if s_l[i][j] in delete:\n",
    "                if(flag):\n",
    "                    r_l.append(s_l[i][tmp : j])\n",
    "                tmp = j\n",
    "                flag = False\n",
    "            else:\n",
    "                if(not flag):\n",
    "                    tmp = tmp + 1;\n",
    "                flag = True\n",
    "        if(flag):\n",
    "            r_l.append(s_l[i][ tmp : len(s_l[i]) ] )\n",
    "    str_list = [x for x in r_l if x != '']\n",
    "    return str_list"
   ]
  },
  {
   "cell_type": "code",
   "execution_count": 3,
   "metadata": {},
   "outputs": [
    {
     "name": "stdout",
     "output_type": "stream",
     "text": [
      "8\n",
      "['THIS', 'is', 'a', 'good', 'day', '!', \"don't\", 'know']\n"
     ]
    }
   ],
   "source": [
    "a = \"THIS is a good day!=== don't}}} know =====================================\"\n",
    "b = divide_string(a)\n",
    "print(len(b))\n",
    "print(b)"
   ]
  },
  {
   "cell_type": "code",
   "execution_count": 4,
   "metadata": {},
   "outputs": [
    {
     "name": "stdout",
     "output_type": "stream",
     "text": [
      "1193514\n"
     ]
    }
   ],
   "source": [
    "\n",
    "vectors = bz.open(r\"C:\\Users\\mul02\\Desktop\\Course\\LIGN 167\\Final Project\\glove\\27B.100.dat\")[:]\n",
    "words = pickle.load(open(r\"C:\\Users\\mul02\\Desktop\\Course\\LIGN 167\\Final Project\\glove\\27B.100_words.pkl\", 'rb'))\n",
    "word2idx = pickle.load(open(r\"C:\\Users\\mul02\\Desktop\\Course\\LIGN 167\\Final Project\\glove\\27B.100_idx.pkl\", 'rb'))\n",
    "\n",
    "glove = {w: vectors[word2idx[w]] for w in words}\n",
    "print(len(glove))"
   ]
  },
  {
   "cell_type": "code",
   "execution_count": 5,
   "metadata": {
    "collapsed": true
   },
   "outputs": [],
   "source": [
    "def remove_infrequent_words(sents):\n",
    "    word_counts = {}\n",
    "    divide_sentence = []\n",
    "    #divide each sentence first\n",
    "    for s in sents:\n",
    "        tmp = divide_string(s)\n",
    "        divide_sentence.append(tmp)\n",
    "    \n",
    "    # count the word\n",
    "    for s in divide_sentence:\n",
    "        for w in s:\n",
    "            if w in word_counts:\n",
    "                word_counts[w] += 1\n",
    "            else:\n",
    "                word_counts[w] = 1\n",
    "\n",
    "    threshold = 2\n",
    "    filtered_sents = []\n",
    "    for s in divide_sentence:\n",
    "        new_s = []\n",
    "        for w in s:\n",
    "            if word_counts[w] < threshold:\n",
    "                new_s.append('<UNKOWN>')\n",
    "            else:\n",
    "                new_s.append(w)\n",
    "        filtered_sents.append(new_s)\n",
    "    return filtered_sents\n",
    "\n"
   ]
  },
  {
   "cell_type": "code",
   "execution_count": 6,
   "metadata": {},
   "outputs": [
    {
     "name": "stdout",
     "output_type": "stream",
     "text": [
      "(100, 4, 103)\n",
      "[['<UNKOWN>', '<UNKOWN>', '<UNKOWN>', '<UNKOWN>', '<UNKOWN>', '!', '!'], ['<UNKOWN>', '<UNKOWN>', '<UNKOWN>', '<UNKOWN>'], ['test'], ['test', '<UNKOWN>', 'test']]\n"
     ]
    }
   ],
   "source": [
    "s = [\"This is a good time!!\", \"You are pretty@$&^$@ happy\", \"test\", \"test*%& test\"]\n",
    "def word_embedding_glove_total(sentence):\n",
    "    #create the total size of weight matrix\n",
    "    weights_matrix = np.zeros((100,len(sentence), 103))\n",
    "    \n",
    "    \n",
    "    processed_sentence = remove_infrequent_words(sentence)\n",
    "    \n",
    "    for k in range(len(processed_sentence)):\n",
    "        target_vocab = processed_sentence[k]\n",
    "        emb_dim = 100\n",
    "\n",
    "        # enumerate the word, break at position 100\n",
    "        for i, word in enumerate(target_vocab):\n",
    "            if i == 100:\n",
    "                break;\n",
    "            try: \n",
    "                tmp_vec = glove[word]\n",
    "            except KeyError:\n",
    "                tmp_vec = np.random.normal(scale=0.6, size=(emb_dim, ))\n",
    "                tmp_dic = {word:tmp_vec}\n",
    "                glove.update(tmp_dic)\n",
    "            #write something to change it to 103\n",
    "            ind = 0\n",
    "            if word.isupper():\n",
    "                tmp_vec = np.append(tmp_vec, [1])\n",
    "            else:\n",
    "                tmp_vec = np.append(tmp_vec, [0])\n",
    "                ind = ind + 1\n",
    "    \n",
    "            if word.islower():\n",
    "                tmp_vec = np.append(tmp_vec, [1])\n",
    "            else:\n",
    "                tmp_vec = np.append(tmp_vec, [0])\n",
    "                ind = ind + 1\n",
    "    \n",
    "            if ind == 2:\n",
    "                tmp_vec = np.append(tmp_vec, [1])\n",
    "            else:\n",
    "                tmp_vec = np.append(tmp_vec, [0])\n",
    "    \n",
    "            weights_matrix[i][k] = tmp_vec;\n",
    "    return weights_matrix\n",
    "\n",
    "test =  word_embedding_glove_total(s)\n",
    "print(test.shape)\n",
    "sentences = remove_infrequent_words(s)\n",
    "print(sentences)"
   ]
  },
  {
   "cell_type": "code",
   "execution_count": 7,
   "metadata": {},
   "outputs": [
    {
     "name": "stdout",
     "output_type": "stream",
     "text": [
      "(100, 4, 103)\n"
     ]
    }
   ],
   "source": [
    "s = [\"This is a good time!!\", \"You are pretty@$&^$@ happy\", \"test\", \"test*%& test\"]\n",
    "def base_glove_total(sentence):\n",
    "    #create the total size of weight matrix\n",
    "    weights_matrix = np.zeros((100,len(sentence), 103))\n",
    "    \n",
    "    \n",
    "    for k in range(len(sentence)):\n",
    "        target_vocab = sentence[k].split()\n",
    "        emb_dim = 100\n",
    "\n",
    "        # enumerate the word, break at position 100\n",
    "        for i in range(len(target_vocab)):\n",
    "            if i == 100:\n",
    "                break;\n",
    "            try: \n",
    "                word = target_vocab[i]\n",
    "                tmp_vec = glove[target_vocab[i]]\n",
    "            except KeyError:\n",
    "                tmp_vec = np.random.normal(scale=0.6, size=(emb_dim, ))\n",
    "                \n",
    "            #write something to change it to 103\n",
    "            ind = 0\n",
    "            if word.isupper():\n",
    "                tmp_vec = np.append(tmp_vec, [1])\n",
    "            else:\n",
    "                tmp_vec = np.append(tmp_vec, [0])\n",
    "                ind = ind + 1\n",
    "    \n",
    "            if word.islower():\n",
    "                tmp_vec = np.append(tmp_vec, [1])\n",
    "            else:\n",
    "                tmp_vec = np.append(tmp_vec, [0])\n",
    "                ind = ind + 1\n",
    "    \n",
    "            if ind == 2:\n",
    "                tmp_vec = np.append(tmp_vec, [1])\n",
    "            else:\n",
    "                tmp_vec = np.append(tmp_vec, [0])\n",
    "    \n",
    "            weights_matrix[i][k] = tmp_vec;\n",
    "    return weights_matrix\n",
    "\n",
    "test =  base_glove_total(s)\n",
    "print(test.shape)"
   ]
  },
  {
   "cell_type": "code",
   "execution_count": 8,
   "metadata": {
    "collapsed": true
   },
   "outputs": [],
   "source": [
    "def create_emb_layer(weights_matrix, non_trainable=False):\n",
    "    num_embeddings, embedding_dim = weights_matrix.shape\n",
    "    emb_layer = nn.Embedding(num_embeddings, embedding_dim)\n",
    "    emb_layer.load_state_dict({'weight': weights_matrix})\n",
    "    if non_trainable:\n",
    "        emb_layer.weight.requires_grad = False\n",
    "\n",
    "    return emb_layer, num_embeddings, embedding_dim\n",
    "\n",
    "\n",
    "class tcLSTM(nn.Module):\n",
    "    def __init__(self, input_dim, hidden_size, target_size, batch_size):\n",
    "        super(tcLSTM, self).__init__()\n",
    "        self.embedding_dim = input_dim\n",
    "        self.hidden_size = hidden_size\n",
    "        self.batch_size = batch_size\n",
    "        self.lstm = nn.LSTM(self.embedding_dim, hidden_size)\n",
    "        \n",
    "        # The linear layer that maps from hidden state space to target space\n",
    "        self.hidden2tar = nn.Linear(self.hidden_size, target_size)\n",
    "        self.hidden = self.init_hidden()\n",
    "        \n",
    "    def forward(self, weights_matrix):\n",
    "        #didn't use batch, may need to add batch size in the middle\n",
    "        lstm_out, self.hidden = self.lstm(weights_matrix)\n",
    "        \n",
    "        y_pred = self.hidden2tar(lstm_out[-1])\n",
    "        return torch.sigmoid(y_pred)\n",
    "                                    \n",
    "    \n",
    "    def init_hidden(self):\n",
    "        return (Variable(torch.zeros(1, self.batch_size, self.hidden_size)),   \n",
    "               Variable(torch.zeros(1, self.batch_size, self.hidden_size)))"
   ]
  },
  {
   "cell_type": "code",
   "execution_count": 9,
   "metadata": {
    "collapsed": true
   },
   "outputs": [],
   "source": [
    "data = pd.read_csv(r\"C:\\Users\\mul02\\Desktop\\Course\\LIGN 167\\Final Project\\data\\train.csv\", encoding = \"ISO-8859-1\")\n",
    "#data.head()"
   ]
  },
  {
   "cell_type": "code",
   "execution_count": 10,
   "metadata": {},
   "outputs": [
    {
     "name": "stdout",
     "output_type": "stream",
     "text": [
      "(159571,)\n",
      "(159571, 6)\n"
     ]
    }
   ],
   "source": [
    "x_train = data['comment_text'] \n",
    "y_train = data.iloc[:,2:8]\n",
    "print(x_train.shape)\n",
    "print(y_train.shape)"
   ]
  },
  {
   "cell_type": "code",
   "execution_count": 11,
   "metadata": {},
   "outputs": [
    {
     "name": "stdout",
     "output_type": "stream",
     "text": [
      "(153164,)\n",
      "(153164, 6)\n"
     ]
    }
   ],
   "source": [
    "data = pd.read_csv(r\"C:\\Users\\mul02\\Desktop\\Course\\LIGN 167\\Final Project\\data\\test.csv\", encoding = \"ISO-8859-1\")\n",
    "x_test = data['comment_text']\n",
    "print(x_test.shape)\n",
    "data = pd.read_csv(r\"C:\\Users\\mul02\\Desktop\\Course\\LIGN 167\\Final Project\\data\\test_labels.csv\", encoding = \"ISO-8859-1\")\n",
    "y_test = data.iloc[:,1:7]\n",
    "print(y_test.shape)"
   ]
  },
  {
   "cell_type": "code",
   "execution_count": 12,
   "metadata": {
    "collapsed": true
   },
   "outputs": [],
   "source": [
    "#the embedding\n",
    "train_set = word_embedding_glove_total(x_train)\n",
    "#train_set = base_glove_total(x_train)"
   ]
  },
  {
   "cell_type": "code",
   "execution_count": 13,
   "metadata": {},
   "outputs": [
    {
     "name": "stdout",
     "output_type": "stream",
     "text": [
      "(100, 159571, 103)\n",
      "(100, 512, 103)\n",
      "(1, 159571, 6)\n"
     ]
    }
   ],
   "source": [
    "print(train_set.shape)\n",
    "w = train_set[:,512:1024,:]\n",
    "print(w.shape)\n",
    "c = y_train.values\n",
    "c = c.reshape((1,159571,6))\n",
    "print(c.shape)"
   ]
  },
  {
   "cell_type": "code",
   "execution_count": 14,
   "metadata": {},
   "outputs": [
    {
     "name": "stdout",
     "output_type": "stream",
     "text": [
      "(153164, 2)\n",
      "(153164, 7)\n",
      "(63978, 7)\n",
      "(63978,)\n",
      "(63978, 6)\n"
     ]
    }
   ],
   "source": [
    "data = pd.read_csv(r\"C:\\Users\\mul02\\Desktop\\Course\\LIGN 167\\Final Project\\data\\test.csv\", encoding = \"ISO-8859-1\")\n",
    "data2 = pd.read_csv(r\"C:\\Users\\mul02\\Desktop\\Course\\LIGN 167\\Final Project\\data\\test_labels.csv\", encoding = \"ISO-8859-1\")\n",
    "df = pd.concat([data.reset_index(drop=True), data2.reset_index(drop=True)], axis=1)\n",
    "df = df.drop(['id', 'id'],axis=1)\n",
    "df = df[df.toxic != -1]\n",
    "print(data.shape)\n",
    "print(data2.shape)\n",
    "print(df.shape)\n",
    "x_test = df.reset_index()['comment_text']\n",
    "y_test = df.reset_index().iloc[:, 2:8]\n",
    "print(x_test.shape)\n",
    "print(y_test.shape)"
   ]
  },
  {
   "cell_type": "code",
   "execution_count": 15,
   "metadata": {
    "collapsed": true
   },
   "outputs": [],
   "source": [
    "batch_size = 512\n",
    "epoch = 100\n",
    "lr = 0.005\n",
    "hidden_state = 24\n",
    "output_dim = 6\n",
    "input_dim = 103\n",
    "train_size = len(x_train)\n",
    "train_output = y_train.values\n",
    "\n",
    "\n",
    "model = tcLSTM(input_dim=input_dim, hidden_size=hidden_state, target_size=output_dim, batch_size = batch_size)\n",
    "model = model.cuda()\n",
    "loss_fn = nn.BCELoss()\n",
    "optimizer = torch.optim.Adam(model.parameters(), lr=lr)\n"
   ]
  },
  {
   "cell_type": "code",
   "execution_count": 16,
   "metadata": {},
   "outputs": [
    {
     "name": "stdout",
     "output_type": "stream",
     "text": [
      "tensor(50.9755, device='cuda:0', grad_fn=<ThAddBackward>)\n",
      "tensor(26.5789, device='cuda:0', grad_fn=<ThAddBackward>)\n",
      "tensor(20.6462, device='cuda:0', grad_fn=<ThAddBackward>)\n",
      "tensor(18.2622, device='cuda:0', grad_fn=<ThAddBackward>)\n",
      "tensor(17.1125, device='cuda:0', grad_fn=<ThAddBackward>)\n",
      "tensor(16.5756, device='cuda:0', grad_fn=<ThAddBackward>)\n",
      "tensor(16.0052, device='cuda:0', grad_fn=<ThAddBackward>)\n",
      "tensor(15.6461, device='cuda:0', grad_fn=<ThAddBackward>)\n",
      "tensor(15.2870, device='cuda:0', grad_fn=<ThAddBackward>)\n",
      "tensor(15.0594, device='cuda:0', grad_fn=<ThAddBackward>)\n",
      "tensor(14.8109, device='cuda:0', grad_fn=<ThAddBackward>)\n",
      "tensor(14.5929, device='cuda:0', grad_fn=<ThAddBackward>)\n",
      "tensor(14.4486, device='cuda:0', grad_fn=<ThAddBackward>)\n",
      "tensor(14.2640, device='cuda:0', grad_fn=<ThAddBackward>)\n",
      "tensor(14.1223, device='cuda:0', grad_fn=<ThAddBackward>)\n",
      "tensor(14.0939, device='cuda:0', grad_fn=<ThAddBackward>)\n",
      "tensor(13.9003, device='cuda:0', grad_fn=<ThAddBackward>)\n",
      "tensor(13.8095, device='cuda:0', grad_fn=<ThAddBackward>)\n",
      "tensor(13.8289, device='cuda:0', grad_fn=<ThAddBackward>)\n",
      "tensor(13.5723, device='cuda:0', grad_fn=<ThAddBackward>)\n",
      "tensor(13.6184, device='cuda:0', grad_fn=<ThAddBackward>)\n",
      "tensor(13.6492, device='cuda:0', grad_fn=<ThAddBackward>)\n",
      "tensor(13.7871, device='cuda:0', grad_fn=<ThAddBackward>)\n",
      "tensor(13.3744, device='cuda:0', grad_fn=<ThAddBackward>)\n",
      "tensor(13.1718, device='cuda:0', grad_fn=<ThAddBackward>)\n",
      "tensor(13.0925, device='cuda:0', grad_fn=<ThAddBackward>)\n",
      "tensor(13.0016, device='cuda:0', grad_fn=<ThAddBackward>)\n",
      "tensor(12.8202, device='cuda:0', grad_fn=<ThAddBackward>)\n",
      "tensor(12.6674, device='cuda:0', grad_fn=<ThAddBackward>)\n",
      "tensor(12.7638, device='cuda:0', grad_fn=<ThAddBackward>)\n",
      "tensor(12.8251, device='cuda:0', grad_fn=<ThAddBackward>)\n",
      "tensor(12.6669, device='cuda:0', grad_fn=<ThAddBackward>)\n",
      "tensor(12.6374, device='cuda:0', grad_fn=<ThAddBackward>)\n",
      "tensor(12.5004, device='cuda:0', grad_fn=<ThAddBackward>)\n",
      "tensor(12.4183, device='cuda:0', grad_fn=<ThAddBackward>)\n",
      "tensor(12.3117, device='cuda:0', grad_fn=<ThAddBackward>)\n",
      "tensor(12.4911, device='cuda:0', grad_fn=<ThAddBackward>)\n",
      "tensor(12.3462, device='cuda:0', grad_fn=<ThAddBackward>)\n",
      "tensor(12.2893, device='cuda:0', grad_fn=<ThAddBackward>)\n",
      "tensor(12.2929, device='cuda:0', grad_fn=<ThAddBackward>)\n",
      "tensor(12.3215, device='cuda:0', grad_fn=<ThAddBackward>)\n",
      "tensor(12.1323, device='cuda:0', grad_fn=<ThAddBackward>)\n",
      "tensor(12.1822, device='cuda:0', grad_fn=<ThAddBackward>)\n",
      "tensor(12.0597, device='cuda:0', grad_fn=<ThAddBackward>)\n",
      "tensor(11.9271, device='cuda:0', grad_fn=<ThAddBackward>)\n",
      "tensor(11.9397, device='cuda:0', grad_fn=<ThAddBackward>)\n",
      "tensor(11.8751, device='cuda:0', grad_fn=<ThAddBackward>)\n",
      "tensor(11.9765, device='cuda:0', grad_fn=<ThAddBackward>)\n",
      "tensor(11.9381, device='cuda:0', grad_fn=<ThAddBackward>)\n",
      "tensor(12.0447, device='cuda:0', grad_fn=<ThAddBackward>)\n",
      "tensor(11.8232, device='cuda:0', grad_fn=<ThAddBackward>)\n",
      "tensor(11.7424, device='cuda:0', grad_fn=<ThAddBackward>)\n",
      "tensor(11.7341, device='cuda:0', grad_fn=<ThAddBackward>)\n",
      "tensor(11.8392, device='cuda:0', grad_fn=<ThAddBackward>)\n",
      "tensor(11.7028, device='cuda:0', grad_fn=<ThAddBackward>)\n",
      "tensor(11.7153, device='cuda:0', grad_fn=<ThAddBackward>)\n",
      "tensor(11.7565, device='cuda:0', grad_fn=<ThAddBackward>)\n",
      "tensor(11.6475, device='cuda:0', grad_fn=<ThAddBackward>)\n",
      "tensor(11.6694, device='cuda:0', grad_fn=<ThAddBackward>)\n",
      "tensor(11.5199, device='cuda:0', grad_fn=<ThAddBackward>)\n",
      "tensor(11.5948, device='cuda:0', grad_fn=<ThAddBackward>)\n",
      "tensor(11.5233, device='cuda:0', grad_fn=<ThAddBackward>)\n",
      "tensor(11.5300, device='cuda:0', grad_fn=<ThAddBackward>)\n",
      "tensor(11.5061, device='cuda:0', grad_fn=<ThAddBackward>)\n",
      "tensor(11.3988, device='cuda:0', grad_fn=<ThAddBackward>)\n",
      "tensor(11.3948, device='cuda:0', grad_fn=<ThAddBackward>)\n",
      "tensor(11.4354, device='cuda:0', grad_fn=<ThAddBackward>)\n",
      "tensor(11.2962, device='cuda:0', grad_fn=<ThAddBackward>)\n",
      "tensor(11.4013, device='cuda:0', grad_fn=<ThAddBackward>)\n",
      "tensor(11.4855, device='cuda:0', grad_fn=<ThAddBackward>)\n",
      "tensor(11.3449, device='cuda:0', grad_fn=<ThAddBackward>)\n",
      "tensor(11.2600, device='cuda:0', grad_fn=<ThAddBackward>)\n",
      "tensor(11.2647, device='cuda:0', grad_fn=<ThAddBackward>)\n",
      "tensor(11.2138, device='cuda:0', grad_fn=<ThAddBackward>)\n",
      "tensor(11.4501, device='cuda:0', grad_fn=<ThAddBackward>)\n",
      "tensor(11.1831, device='cuda:0', grad_fn=<ThAddBackward>)\n",
      "tensor(11.0584, device='cuda:0', grad_fn=<ThAddBackward>)\n",
      "tensor(13.1655, device='cuda:0', grad_fn=<ThAddBackward>)\n",
      "tensor(12.6704, device='cuda:0', grad_fn=<ThAddBackward>)\n",
      "tensor(11.8622, device='cuda:0', grad_fn=<ThAddBackward>)\n",
      "tensor(11.6644, device='cuda:0', grad_fn=<ThAddBackward>)\n",
      "tensor(11.3593, device='cuda:0', grad_fn=<ThAddBackward>)\n",
      "tensor(11.2854, device='cuda:0', grad_fn=<ThAddBackward>)\n",
      "tensor(11.3863, device='cuda:0', grad_fn=<ThAddBackward>)\n",
      "tensor(11.3569, device='cuda:0', grad_fn=<ThAddBackward>)\n",
      "tensor(11.2513, device='cuda:0', grad_fn=<ThAddBackward>)\n",
      "tensor(11.0933, device='cuda:0', grad_fn=<ThAddBackward>)\n",
      "tensor(11.2250, device='cuda:0', grad_fn=<ThAddBackward>)\n",
      "tensor(11.1404, device='cuda:0', grad_fn=<ThAddBackward>)\n",
      "tensor(11.1831, device='cuda:0', grad_fn=<ThAddBackward>)\n",
      "tensor(11.0189, device='cuda:0', grad_fn=<ThAddBackward>)\n",
      "tensor(10.9212, device='cuda:0', grad_fn=<ThAddBackward>)\n",
      "tensor(11.0028, device='cuda:0', grad_fn=<ThAddBackward>)\n",
      "tensor(10.9860, device='cuda:0', grad_fn=<ThAddBackward>)\n",
      "tensor(10.8652, device='cuda:0', grad_fn=<ThAddBackward>)\n",
      "tensor(10.9190, device='cuda:0', grad_fn=<ThAddBackward>)\n",
      "tensor(11.0704, device='cuda:0', grad_fn=<ThAddBackward>)\n",
      "tensor(12.0151, device='cuda:0', grad_fn=<ThAddBackward>)\n",
      "tensor(11.7395, device='cuda:0', grad_fn=<ThAddBackward>)\n",
      "tensor(11.3191, device='cuda:0', grad_fn=<ThAddBackward>)\n",
      "797.7614636421204\n"
     ]
    }
   ],
   "source": [
    "\n",
    "\n",
    "start = time.time()\n",
    "\n",
    "#Training\n",
    "for i in range(epoch):  # again, normally you would NOT do 300 epochs, it is toy data\n",
    "    j = 0\n",
    "    total_loss = 0\n",
    "    while(j < train_size ):\n",
    "        k = j + 512;\n",
    "        if k > train_size:\n",
    "            break\n",
    "        \n",
    "        #prepare input and output\n",
    "        x_t = train_set[:,j:k,:]\n",
    "        x_t = torch.cuda.FloatTensor(x_t)\n",
    "        y_t = train_output[j:k,:]\n",
    "        #y_t = y_t.sum(axis=1)\n",
    "        y_t = torch.cuda.FloatTensor(y_t)\n",
    "        \n",
    "        # Step 1. Remember that Pytorch accumulates gradients.\n",
    "        # We need to clear them out before each instance\n",
    "        model.zero_grad()\n",
    "\n",
    "        # Also, we need to clear out the hidden state of the LSTM,\n",
    "        # detaching it from its history on the last instance.\n",
    "        model.hidden = model.init_hidden()\n",
    "\n",
    "\n",
    "        # Step 2. Run our forward pass.\n",
    "        y_pred = model(x_t)\n",
    "        y_pred = y_pred.reshape((512,6))\n",
    "        \n",
    "        \n",
    "        # Step 4. Compute the loss, gradients, and update the parameters by\n",
    "        #  calling optimizer.step()\n",
    "        loss = loss_fn(y_pred, y_t)\n",
    "        total_loss += loss\n",
    "        loss.backward()\n",
    "        optimizer.step()\n",
    "        j = k\n",
    "    \n",
    "    print(total_loss)\n",
    "    \n",
    "    \n",
    "        \n",
    "end = time.time()\n",
    "print(end - start)"
   ]
  },
  {
   "cell_type": "code",
   "execution_count": 17,
   "metadata": {},
   "outputs": [
    {
     "name": "stdout",
     "output_type": "stream",
     "text": [
      "1270947\n"
     ]
    }
   ],
   "source": [
    "#test set\n",
    "total = 10000\n",
    "test_set_d = x_test[0:total]\n",
    "test_output = y_test.values[0:total, :]\n",
    "test_set = word_embedding_glove_total(test_set_d)\n",
    "#test_set = base_glove_total(test_set_d)\n",
    "print(len(glove))"
   ]
  },
  {
   "cell_type": "code",
   "execution_count": 18,
   "metadata": {},
   "outputs": [
    {
     "name": "stdout",
     "output_type": "stream",
     "text": [
      "8669\n"
     ]
    }
   ],
   "source": [
    "#then do the testing\n",
    "#first test on 10000 set\n",
    "correct = 0\n",
    "\n",
    "\n",
    "with torch.no_grad():\n",
    "    x_t = torch.cuda.FloatTensor(test_set)\n",
    "    y_t = torch.cuda.FloatTensor(test_output)\n",
    "    y_pred = model(x_t)\n",
    "    y_pred = y_pred.reshape((total, 6))\n",
    "    y_pred_c = y_pred > 0.6\n",
    "    y_pred_c = y_pred_c.type(torch.cuda.FloatTensor)\n",
    "    for i in range(total):\n",
    "        if torch.equal(y_pred_c[i], y_t[i]):\n",
    "            correct = correct + 1\n",
    "    print(correct)"
   ]
  },
  {
   "cell_type": "code",
   "execution_count": null,
   "metadata": {
    "collapsed": true
   },
   "outputs": [],
   "source": []
  },
  {
   "cell_type": "code",
   "execution_count": null,
   "metadata": {
    "collapsed": true
   },
   "outputs": [],
   "source": []
  }
 ],
 "metadata": {
  "kernelspec": {
   "display_name": "Python 3",
   "language": "python",
   "name": "python3"
  },
  "language_info": {
   "codemirror_mode": {
    "name": "ipython",
    "version": 3
   },
   "file_extension": ".py",
   "mimetype": "text/x-python",
   "name": "python",
   "nbconvert_exporter": "python",
   "pygments_lexer": "ipython3",
   "version": "3.6.3"
  }
 },
 "nbformat": 4,
 "nbformat_minor": 2
}
