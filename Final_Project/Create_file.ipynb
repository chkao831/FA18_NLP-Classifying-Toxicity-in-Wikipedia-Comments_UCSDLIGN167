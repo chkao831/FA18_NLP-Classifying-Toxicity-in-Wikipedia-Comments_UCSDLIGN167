{
 "cells": [
  {
   "cell_type": "code",
   "execution_count": 9,
   "metadata": {},
   "outputs": [],
   "source": [
    "import bcolz as bz\n",
    "import pickle\n",
    "import numpy as np\n",
    "\n",
    "words = []\n",
    "idx = 0\n",
    "word2idx = {}\n",
    "vectors = bz.carray(np.zeros(1), rootdir=r\"C:\\Users\\mul02\\Desktop\\Course\\LIGN 167\\Final Project\\glove\\27B.100.dat\", mode='w')\n",
    "\n",
    "with open(r\"C:\\Users\\mul02\\Desktop\\Course\\LIGN 167\\Final Project\\glove\\glove.twitter.27B.100d.txt\", 'rb') as f:\n",
    "    for l in f:\n",
    "        line = l.decode().split()\n",
    "        word = line[0]\n",
    "        words.append(word)\n",
    "        word2idx[word] = idx\n",
    "        idx += 1\n",
    "        vect = np.array(line[1:]).astype(np.float)\n",
    "        if(len(vect) != 100):\n",
    "            b = np.zeros(1)\n",
    "            vect = np.concatenate((vect,b))\n",
    "        vectors.append(vect)\n",
    "    \n",
    "vectors = bz.carray(vectors[1:].reshape((idx, 100)), rootdir=r\"C:\\Users\\mul02\\Desktop\\Course\\LIGN 167\\Final Project\\glove\\27B.100.dat\", mode='w')\n",
    "vectors.flush()\n",
    "pickle.dump(words, open(r\"C:\\Users\\mul02\\Desktop\\Course\\LIGN 167\\Final Project\\glove\\27B.100_words.pkl\", 'wb'))\n",
    "pickle.dump(word2idx, open(r\"C:\\Users\\mul02\\Desktop\\Course\\LIGN 167\\Final Project\\glove\\27B.100_idx.pkl\", 'wb'))"
   ]
  },
  {
   "cell_type": "code",
   "execution_count": 8,
   "metadata": {},
   "outputs": [
    {
     "name": "stdout",
     "output_type": "stream",
     "text": [
      "(1,)\n",
      "(10,)\n",
      "(11,)\n"
     ]
    }
   ],
   "source": [
    "import numpy as np\n",
    "a = np.zeros(10)\n",
    "b = np.zeros(1)\n",
    "print(b.shape)\n",
    "print(a.shape)\n",
    "c = np.concatenate((a,b))\n",
    "print(c.shape)"
   ]
  },
  {
   "cell_type": "code",
   "execution_count": null,
   "metadata": {
    "collapsed": true
   },
   "outputs": [],
   "source": []
  }
 ],
 "metadata": {
  "kernelspec": {
   "display_name": "Python 3",
   "language": "python",
   "name": "python3"
  },
  "language_info": {
   "codemirror_mode": {
    "name": "ipython",
    "version": 3
   },
   "file_extension": ".py",
   "mimetype": "text/x-python",
   "name": "python",
   "nbconvert_exporter": "python",
   "pygments_lexer": "ipython3",
   "version": "3.6.3"
  }
 },
 "nbformat": 4,
 "nbformat_minor": 2
}
