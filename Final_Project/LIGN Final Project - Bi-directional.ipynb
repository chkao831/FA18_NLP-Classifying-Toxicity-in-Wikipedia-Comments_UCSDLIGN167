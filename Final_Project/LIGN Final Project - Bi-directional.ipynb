{
 "cells": [
  {
   "cell_type": "code",
   "execution_count": 1,
   "metadata": {
    "collapsed": true
   },
   "outputs": [],
   "source": [
    "import numpy as np\n",
    "import pandas as pd\n",
    "import bcolz as bz\n",
    "import pickle\n",
    "import torch\n",
    "import torch.nn as nn\n",
    "import torch.nn.functional as F\n",
    "from torch.nn.utils.rnn import pack_padded_sequence, pad_packed_sequence\n",
    "import time\n",
    "from torch.autograd import Variable"
   ]
  },
  {
   "cell_type": "code",
   "execution_count": 2,
   "metadata": {
    "collapsed": true
   },
   "outputs": [],
   "source": [
    "def divide_string(sentence):\n",
    "    s_l = sentence.split()\n",
    "    r_l = []\n",
    "    punc = [',', '.', '?', '!', ';', '@', '(', ')', '[' , ']', '/', '|', '{', '}', '\"', '-', '=']\n",
    "    for i in range(len(s_l)):\n",
    "        tmp = 0\n",
    "        for j in range(len(s_l[i])):\n",
    "            if s_l[i][j] in punc:\n",
    "                r_l.append(s_l[i][tmp : j])\n",
    "                tmp = j\n",
    "        r_l.append(s_l[i][ tmp : len(s_l[i]) ] )\n",
    "    return r_l"
   ]
  },
  {
   "cell_type": "code",
   "execution_count": 3,
   "metadata": {},
   "outputs": [
    {
     "name": "stdout",
     "output_type": "stream",
     "text": [
      "52\n"
     ]
    }
   ],
   "source": [
    "a = \"THIS is a good day!=== don't}}} know =====================================\"\n",
    "b = divide_string(a)\n",
    "print(len(b))"
   ]
  },
  {
   "cell_type": "code",
   "execution_count": 4,
   "metadata": {
    "collapsed": true
   },
   "outputs": [],
   "source": [
    "\n",
    "vectors = bz.open(r\"C:\\Users\\mul02\\Desktop\\Course\\LIGN 167\\Final Project\\glove\\27B.100.dat\")[:]\n",
    "words = pickle.load(open(r\"C:\\Users\\mul02\\Desktop\\Course\\LIGN 167\\Final Project\\glove\\27B.100_words.pkl\", 'rb'))\n",
    "word2idx = pickle.load(open(r\"C:\\Users\\mul02\\Desktop\\Course\\LIGN 167\\Final Project\\glove\\27B.100_idx.pkl\", 'rb'))\n",
    "\n",
    "glove = {w: vectors[word2idx[w]] for w in words}"
   ]
  },
  {
   "cell_type": "code",
   "execution_count": 5,
   "metadata": {
    "collapsed": true
   },
   "outputs": [],
   "source": [
    "def remove_infrequent_words(sents):\n",
    "    word_counts = {}\n",
    "    divide_sentence = []\n",
    "    #divide each sentence first\n",
    "    for s in sents:\n",
    "        tmp = divide_string(s)\n",
    "        divide_sentence.append(tmp)\n",
    "    \n",
    "    # count the word\n",
    "    for s in divide_sentence:\n",
    "        for w in s:\n",
    "            if w in word_counts:\n",
    "                word_counts[w] += 1\n",
    "            else:\n",
    "                word_counts[w] = 1\n",
    "\n",
    "    threshold = 2\n",
    "    filtered_sents = []\n",
    "    for s in divide_sentence:\n",
    "        new_s = []\n",
    "        for w in s:\n",
    "            if word_counts[w] < threshold:\n",
    "                new_s.append('<UNKOWN>')\n",
    "            else:\n",
    "                new_s.append(w)\n",
    "        filtered_sents.append(new_s)\n",
    "    return filtered_sents\n",
    "\n"
   ]
  },
  {
   "cell_type": "code",
   "execution_count": 6,
   "metadata": {},
   "outputs": [
    {
     "name": "stdout",
     "output_type": "stream",
     "text": [
      "(100, 4, 103)\n",
      "[['<UNKOWN>', '<UNKOWN>', '<UNKOWN>', '<UNKOWN>', '<UNKOWN>', '!', '!'], ['<UNKOWN>', '<UNKOWN>', '<UNKOWN>', '<UNKOWN>', '<UNKOWN>', '<UNKOWN>'], ['test'], ['<UNKOWN>', 'test']]\n"
     ]
    }
   ],
   "source": [
    "s = [\"This is a good time!!\", \"You are pretty@$&^$@ happy\", \"test\", \"test*%& test\"]\n",
    "def word_embedding_glove_total(sentence):\n",
    "    #create the total size of weight matrix\n",
    "    weights_matrix = np.zeros((100,len(sentence), 103))\n",
    "    \n",
    "    \n",
    "    processed_sentence = remove_infrequent_words(sentence)\n",
    "    \n",
    "    for k in range(len(processed_sentence)):\n",
    "        target_vocab = processed_sentence[k]\n",
    "        emb_dim = 100\n",
    "\n",
    "        # enumerate the word, break at position 100\n",
    "        for i, word in enumerate(target_vocab):\n",
    "            if i == 100:\n",
    "                break;\n",
    "            try: \n",
    "                tmp_vec = glove[word]\n",
    "            except KeyError:\n",
    "                tmp_vec = np.random.normal(scale=0.6, size=(emb_dim, ))\n",
    "                tmp_dic = {word:tmp_vec}\n",
    "                glove.update(tmp_dic)\n",
    "            #write something to change it to 103\n",
    "            ind = 0\n",
    "            if word.isupper():\n",
    "                tmp_vec = np.append(tmp_vec, [1])\n",
    "            else:\n",
    "                tmp_vec = np.append(tmp_vec, [0])\n",
    "                ind = ind + 1\n",
    "    \n",
    "            if word.islower():\n",
    "                tmp_vec = np.append(tmp_vec, [1])\n",
    "            else:\n",
    "                tmp_vec = np.append(tmp_vec, [0])\n",
    "                ind = ind + 1\n",
    "    \n",
    "            if ind == 2:\n",
    "                tmp_vec = np.append(tmp_vec, [1])\n",
    "            else:\n",
    "                tmp_vec = np.append(tmp_vec, [0])\n",
    "    \n",
    "            weights_matrix[i][k] = tmp_vec;\n",
    "    return weights_matrix\n",
    "\n",
    "test =  word_embedding_glove_total(s)\n",
    "print(test.shape)\n",
    "sentences = remove_infrequent_words(s)\n",
    "print(sentences)"
   ]
  },
  {
   "cell_type": "code",
   "execution_count": 7,
   "metadata": {},
   "outputs": [
    {
     "name": "stdout",
     "output_type": "stream",
     "text": [
      "(100, 4, 103)\n"
     ]
    }
   ],
   "source": [
    "s = [\"This is a good time!!\", \"You are pretty@$&^$@ happy\", \"test\", \"test*%& test\"]\n",
    "def base_glove_total(sentence):\n",
    "    #create the total size of weight matrix\n",
    "    weights_matrix = np.zeros((100,len(sentence), 103))\n",
    "    \n",
    "    \n",
    "    for k in range(len(sentence)):\n",
    "        target_vocab = sentence[k].split()\n",
    "        emb_dim = 100\n",
    "\n",
    "        # enumerate the word, break at position 100\n",
    "        for i in range(len(target_vocab)):\n",
    "            if i == 100:\n",
    "                break;\n",
    "            try: \n",
    "                word = target_vocab[i]\n",
    "                tmp_vec = glove[target_vocab[i]]\n",
    "            except KeyError:\n",
    "                tmp_vec = np.random.normal(scale=0.6, size=(emb_dim, ))\n",
    "                \n",
    "            #write something to change it to 103\n",
    "            ind = 0\n",
    "            if word.isupper():\n",
    "                tmp_vec = np.append(tmp_vec, [1])\n",
    "            else:\n",
    "                tmp_vec = np.append(tmp_vec, [0])\n",
    "                ind = ind + 1\n",
    "    \n",
    "            if word.islower():\n",
    "                tmp_vec = np.append(tmp_vec, [1])\n",
    "            else:\n",
    "                tmp_vec = np.append(tmp_vec, [0])\n",
    "                ind = ind + 1\n",
    "    \n",
    "            if ind == 2:\n",
    "                tmp_vec = np.append(tmp_vec, [1])\n",
    "            else:\n",
    "                tmp_vec = np.append(tmp_vec, [0])\n",
    "    \n",
    "            weights_matrix[i][k] = tmp_vec;\n",
    "    return weights_matrix\n",
    "\n",
    "test =  base_glove_total(s)\n",
    "print(test.shape)"
   ]
  },
  {
   "cell_type": "code",
   "execution_count": 8,
   "metadata": {
    "collapsed": true
   },
   "outputs": [],
   "source": [
    "def create_emb_layer(weights_matrix, non_trainable=False):\n",
    "    num_embeddings, embedding_dim = weights_matrix.shape\n",
    "    emb_layer = nn.Embedding(num_embeddings, embedding_dim)\n",
    "    emb_layer.load_state_dict({'weight': weights_matrix})\n",
    "    if non_trainable:\n",
    "        emb_layer.weight.requires_grad = False\n",
    "\n",
    "    return emb_layer, num_embeddings, embedding_dim\n",
    "\n",
    "\n",
    "class tcLSTM(nn.Module):\n",
    "    def __init__(self, input_dim, hidden_size, target_size, batch_size):\n",
    "        super(tcLSTM, self).__init__()\n",
    "        self.embedding_dim = input_dim\n",
    "        self.hidden_size = hidden_size\n",
    "        self.batch_size = batch_size\n",
    "        self.lstm = nn.LSTM(self.embedding_dim, hidden_size, bidirectional=True)\n",
    "        \n",
    "        # The linear layer that maps from hidden state space to target space\n",
    "        self.hidden2tar = nn.Linear(self.hidden_size * 2, target_size)\n",
    "        self.hidden = self.init_hidden()\n",
    "        \n",
    "    def forward(self, weights_matrix):\n",
    "        #didn't use batch, may need to add batch size in the middle\n",
    "        lstm_out, self.hidden = self.lstm(weights_matrix)\n",
    "        \n",
    "        y_pred = self.hidden2tar(lstm_out[-1])\n",
    "        return torch.sigmoid(y_pred)\n",
    "                                    \n",
    "    \n",
    "    def init_hidden(self):\n",
    "        return (Variable(torch.zeros(2, self.batch_size, self.hidden_size)),   \n",
    "                Variable(torch.zeros(2, self.batch_size, self.hidden_size)))"
   ]
  },
  {
   "cell_type": "code",
   "execution_count": 9,
   "metadata": {
    "collapsed": true
   },
   "outputs": [],
   "source": [
    "data = pd.read_csv(r\"C:\\Users\\mul02\\Desktop\\Course\\LIGN 167\\Final Project\\data\\train.csv\", encoding = \"ISO-8859-1\")\n",
    "#data.head()"
   ]
  },
  {
   "cell_type": "code",
   "execution_count": 10,
   "metadata": {},
   "outputs": [
    {
     "name": "stdout",
     "output_type": "stream",
     "text": [
      "(159571,)\n",
      "(159571, 6)\n"
     ]
    }
   ],
   "source": [
    "x_train = data['comment_text'] \n",
    "y_train = data.iloc[:,2:8]\n",
    "print(x_train.shape)\n",
    "print(y_train.shape)"
   ]
  },
  {
   "cell_type": "code",
   "execution_count": 11,
   "metadata": {},
   "outputs": [
    {
     "name": "stdout",
     "output_type": "stream",
     "text": [
      "(153164,)\n",
      "(153164, 6)\n"
     ]
    }
   ],
   "source": [
    "data = pd.read_csv(r\"C:\\Users\\mul02\\Desktop\\Course\\LIGN 167\\Final Project\\data\\test.csv\", encoding = \"ISO-8859-1\")\n",
    "x_test = data['comment_text']\n",
    "print(x_test.shape)\n",
    "data = pd.read_csv(r\"C:\\Users\\mul02\\Desktop\\Course\\LIGN 167\\Final Project\\data\\test_labels.csv\", encoding = \"ISO-8859-1\")\n",
    "y_test = data.iloc[:,1:7]\n",
    "print(y_test.shape)"
   ]
  },
  {
   "cell_type": "code",
   "execution_count": 12,
   "metadata": {
    "collapsed": true
   },
   "outputs": [],
   "source": [
    "#the embedding\n",
    "train_set = word_embedding_glove_total(x_train)\n",
    "#train_set = base_glove_total(x_train)"
   ]
  },
  {
   "cell_type": "code",
   "execution_count": 13,
   "metadata": {},
   "outputs": [
    {
     "name": "stdout",
     "output_type": "stream",
     "text": [
      "(100, 159571, 103)\n",
      "(100, 512, 103)\n",
      "(1, 159571, 6)\n"
     ]
    }
   ],
   "source": [
    "print(train_set.shape)\n",
    "w = train_set[:,512:1024,:]\n",
    "print(w.shape)\n",
    "c = y_train.values\n",
    "c = c.reshape((1,159571,6))\n",
    "print(c.shape)"
   ]
  },
  {
   "cell_type": "code",
   "execution_count": 14,
   "metadata": {},
   "outputs": [
    {
     "name": "stdout",
     "output_type": "stream",
     "text": [
      "(153164, 2)\n",
      "(153164, 7)\n",
      "(63978, 7)\n",
      "(63978,)\n",
      "(63978, 6)\n"
     ]
    }
   ],
   "source": [
    "data = pd.read_csv(r\"C:\\Users\\mul02\\Desktop\\Course\\LIGN 167\\Final Project\\data\\test.csv\", encoding = \"ISO-8859-1\")\n",
    "data2 = pd.read_csv(r\"C:\\Users\\mul02\\Desktop\\Course\\LIGN 167\\Final Project\\data\\test_labels.csv\", encoding = \"ISO-8859-1\")\n",
    "df = pd.concat([data.reset_index(drop=True), data2.reset_index(drop=True)], axis=1)\n",
    "df = df.drop(['id', 'id'],axis=1)\n",
    "df = df[df.toxic != -1]\n",
    "print(data.shape)\n",
    "print(data2.shape)\n",
    "print(df.shape)\n",
    "x_test = df.reset_index()['comment_text']\n",
    "y_test = df.reset_index().iloc[:, 2:8]\n",
    "print(x_test.shape)\n",
    "print(y_test.shape)"
   ]
  },
  {
   "cell_type": "code",
   "execution_count": 15,
   "metadata": {
    "collapsed": true
   },
   "outputs": [],
   "source": [
    "batch_size = 512\n",
    "epoch = 100\n",
    "lr = 0.005\n",
    "hidden_state = 24\n",
    "output_dim = 6\n",
    "input_dim = 103\n",
    "train_size = len(x_train)\n",
    "train_output = y_train.values\n",
    "\n",
    "\n",
    "model = tcLSTM(input_dim=input_dim, hidden_size=hidden_state, target_size=output_dim, batch_size = batch_size)\n",
    "model = model.cuda()\n",
    "loss_fn = nn.BCELoss()\n",
    "optimizer = torch.optim.Adam(model.parameters(), lr=lr)\n"
   ]
  },
  {
   "cell_type": "code",
   "execution_count": 16,
   "metadata": {},
   "outputs": [
    {
     "name": "stdout",
     "output_type": "stream",
     "text": [
      "tensor(49.2470, device='cuda:0', grad_fn=<ThAddBackward>)\n",
      "tensor(39.6950, device='cuda:0', grad_fn=<ThAddBackward>)\n",
      "tensor(22.8624, device='cuda:0', grad_fn=<ThAddBackward>)\n",
      "tensor(19.2891, device='cuda:0', grad_fn=<ThAddBackward>)\n",
      "tensor(17.7415, device='cuda:0', grad_fn=<ThAddBackward>)\n",
      "tensor(16.8048, device='cuda:0', grad_fn=<ThAddBackward>)\n",
      "tensor(16.1390, device='cuda:0', grad_fn=<ThAddBackward>)\n",
      "tensor(15.6030, device='cuda:0', grad_fn=<ThAddBackward>)\n",
      "tensor(15.1906, device='cuda:0', grad_fn=<ThAddBackward>)\n",
      "tensor(14.8933, device='cuda:0', grad_fn=<ThAddBackward>)\n",
      "tensor(14.6361, device='cuda:0', grad_fn=<ThAddBackward>)\n",
      "tensor(14.2914, device='cuda:0', grad_fn=<ThAddBackward>)\n",
      "tensor(13.9885, device='cuda:0', grad_fn=<ThAddBackward>)\n",
      "tensor(13.8092, device='cuda:0', grad_fn=<ThAddBackward>)\n",
      "tensor(13.6731, device='cuda:0', grad_fn=<ThAddBackward>)\n",
      "tensor(13.4588, device='cuda:0', grad_fn=<ThAddBackward>)\n",
      "tensor(13.3405, device='cuda:0', grad_fn=<ThAddBackward>)\n",
      "tensor(13.2278, device='cuda:0', grad_fn=<ThAddBackward>)\n",
      "tensor(13.0150, device='cuda:0', grad_fn=<ThAddBackward>)\n",
      "tensor(12.8661, device='cuda:0', grad_fn=<ThAddBackward>)\n",
      "tensor(12.8167, device='cuda:0', grad_fn=<ThAddBackward>)\n",
      "tensor(12.6215, device='cuda:0', grad_fn=<ThAddBackward>)\n",
      "tensor(12.5291, device='cuda:0', grad_fn=<ThAddBackward>)\n",
      "tensor(12.3772, device='cuda:0', grad_fn=<ThAddBackward>)\n",
      "tensor(12.2482, device='cuda:0', grad_fn=<ThAddBackward>)\n",
      "tensor(12.3530, device='cuda:0', grad_fn=<ThAddBackward>)\n",
      "tensor(12.2598, device='cuda:0', grad_fn=<ThAddBackward>)\n",
      "tensor(12.0910, device='cuda:0', grad_fn=<ThAddBackward>)\n",
      "tensor(11.9512, device='cuda:0', grad_fn=<ThAddBackward>)\n",
      "tensor(12.1009, device='cuda:0', grad_fn=<ThAddBackward>)\n",
      "tensor(11.9581, device='cuda:0', grad_fn=<ThAddBackward>)\n",
      "tensor(11.8481, device='cuda:0', grad_fn=<ThAddBackward>)\n",
      "tensor(11.7190, device='cuda:0', grad_fn=<ThAddBackward>)\n",
      "tensor(11.7021, device='cuda:0', grad_fn=<ThAddBackward>)\n",
      "tensor(11.7104, device='cuda:0', grad_fn=<ThAddBackward>)\n",
      "tensor(11.6366, device='cuda:0', grad_fn=<ThAddBackward>)\n",
      "tensor(11.5091, device='cuda:0', grad_fn=<ThAddBackward>)\n",
      "tensor(11.5041, device='cuda:0', grad_fn=<ThAddBackward>)\n",
      "tensor(11.3622, device='cuda:0', grad_fn=<ThAddBackward>)\n",
      "tensor(11.4254, device='cuda:0', grad_fn=<ThAddBackward>)\n",
      "tensor(11.3677, device='cuda:0', grad_fn=<ThAddBackward>)\n",
      "tensor(11.2763, device='cuda:0', grad_fn=<ThAddBackward>)\n",
      "tensor(11.2065, device='cuda:0', grad_fn=<ThAddBackward>)\n",
      "tensor(11.2263, device='cuda:0', grad_fn=<ThAddBackward>)\n",
      "tensor(11.3370, device='cuda:0', grad_fn=<ThAddBackward>)\n",
      "tensor(11.2320, device='cuda:0', grad_fn=<ThAddBackward>)\n",
      "tensor(11.1574, device='cuda:0', grad_fn=<ThAddBackward>)\n",
      "tensor(10.9985, device='cuda:0', grad_fn=<ThAddBackward>)\n",
      "tensor(10.9867, device='cuda:0', grad_fn=<ThAddBackward>)\n",
      "tensor(11.0214, device='cuda:0', grad_fn=<ThAddBackward>)\n",
      "tensor(11.2391, device='cuda:0', grad_fn=<ThAddBackward>)\n",
      "tensor(11.1188, device='cuda:0', grad_fn=<ThAddBackward>)\n",
      "tensor(10.9468, device='cuda:0', grad_fn=<ThAddBackward>)\n",
      "tensor(11.0607, device='cuda:0', grad_fn=<ThAddBackward>)\n",
      "tensor(11.5565, device='cuda:0', grad_fn=<ThAddBackward>)\n",
      "tensor(11.2461, device='cuda:0', grad_fn=<ThAddBackward>)\n",
      "tensor(11.0721, device='cuda:0', grad_fn=<ThAddBackward>)\n",
      "tensor(10.8322, device='cuda:0', grad_fn=<ThAddBackward>)\n",
      "tensor(10.9025, device='cuda:0', grad_fn=<ThAddBackward>)\n",
      "tensor(10.7643, device='cuda:0', grad_fn=<ThAddBackward>)\n",
      "tensor(10.8533, device='cuda:0', grad_fn=<ThAddBackward>)\n",
      "tensor(10.7488, device='cuda:0', grad_fn=<ThAddBackward>)\n",
      "tensor(10.9883, device='cuda:0', grad_fn=<ThAddBackward>)\n",
      "tensor(11.0616, device='cuda:0', grad_fn=<ThAddBackward>)\n",
      "tensor(10.7470, device='cuda:0', grad_fn=<ThAddBackward>)\n",
      "tensor(10.9779, device='cuda:0', grad_fn=<ThAddBackward>)\n",
      "tensor(11.0377, device='cuda:0', grad_fn=<ThAddBackward>)\n",
      "tensor(10.9499, device='cuda:0', grad_fn=<ThAddBackward>)\n",
      "tensor(11.5735, device='cuda:0', grad_fn=<ThAddBackward>)\n",
      "tensor(10.8867, device='cuda:0', grad_fn=<ThAddBackward>)\n",
      "tensor(10.7973, device='cuda:0', grad_fn=<ThAddBackward>)\n",
      "tensor(10.7397, device='cuda:0', grad_fn=<ThAddBackward>)\n",
      "tensor(10.6973, device='cuda:0', grad_fn=<ThAddBackward>)\n",
      "tensor(10.5928, device='cuda:0', grad_fn=<ThAddBackward>)\n",
      "tensor(10.5325, device='cuda:0', grad_fn=<ThAddBackward>)\n",
      "tensor(10.7456, device='cuda:0', grad_fn=<ThAddBackward>)\n",
      "tensor(10.7498, device='cuda:0', grad_fn=<ThAddBackward>)\n",
      "tensor(10.6703, device='cuda:0', grad_fn=<ThAddBackward>)\n",
      "tensor(10.6738, device='cuda:0', grad_fn=<ThAddBackward>)\n",
      "tensor(10.9756, device='cuda:0', grad_fn=<ThAddBackward>)\n",
      "tensor(10.6233, device='cuda:0', grad_fn=<ThAddBackward>)\n",
      "tensor(10.4818, device='cuda:0', grad_fn=<ThAddBackward>)\n",
      "tensor(10.5547, device='cuda:0', grad_fn=<ThAddBackward>)\n",
      "tensor(10.2268, device='cuda:0', grad_fn=<ThAddBackward>)\n",
      "tensor(10.3296, device='cuda:0', grad_fn=<ThAddBackward>)\n",
      "tensor(10.5991, device='cuda:0', grad_fn=<ThAddBackward>)\n",
      "tensor(10.3378, device='cuda:0', grad_fn=<ThAddBackward>)\n",
      "tensor(10.4042, device='cuda:0', grad_fn=<ThAddBackward>)\n",
      "tensor(10.8162, device='cuda:0', grad_fn=<ThAddBackward>)\n",
      "tensor(10.6431, device='cuda:0', grad_fn=<ThAddBackward>)\n",
      "tensor(10.3688, device='cuda:0', grad_fn=<ThAddBackward>)\n",
      "tensor(10.1823, device='cuda:0', grad_fn=<ThAddBackward>)\n",
      "tensor(10.2110, device='cuda:0', grad_fn=<ThAddBackward>)\n",
      "tensor(10.2629, device='cuda:0', grad_fn=<ThAddBackward>)\n",
      "tensor(10.2996, device='cuda:0', grad_fn=<ThAddBackward>)\n",
      "tensor(10.2089, device='cuda:0', grad_fn=<ThAddBackward>)\n",
      "tensor(10.5913, device='cuda:0', grad_fn=<ThAddBackward>)\n",
      "tensor(10.6108, device='cuda:0', grad_fn=<ThAddBackward>)\n",
      "tensor(10.2575, device='cuda:0', grad_fn=<ThAddBackward>)\n",
      "tensor(10.1930, device='cuda:0', grad_fn=<ThAddBackward>)\n",
      "953.8133590221405\n"
     ]
    }
   ],
   "source": [
    "\n",
    "\n",
    "start = time.time()\n",
    "\n",
    "#Training\n",
    "for i in range(epoch): \n",
    "    j = 0\n",
    "    total_loss = 0;\n",
    "    while(j < train_size ):\n",
    "        k = j + 512;\n",
    "        if k > train_size:\n",
    "            break\n",
    "        \n",
    "        #prepare input and output\n",
    "        x_t = train_set[:,j:k,:]\n",
    "        x_t = torch.cuda.FloatTensor(x_t)\n",
    "        y_t = train_output[j:k,:]\n",
    "        #y_t = y_t.sum(axis=1)\n",
    "        y_t = torch.cuda.FloatTensor(y_t)\n",
    "        \n",
    "\n",
    "        model.zero_grad()\n",
    "\n",
    "        model.hidden = model.init_hidden()\n",
    "\n",
    "        y_pred = model(x_t)\n",
    "        y_pred = y_pred.reshape((512,6))\n",
    "                \n",
    "\n",
    "        loss = loss_fn(y_pred, y_t)\n",
    "        total_loss += loss\n",
    "        loss.backward()\n",
    "        optimizer.step()\n",
    "        j = k\n",
    "    print(total_loss)\n",
    "        \n",
    "end = time.time()\n",
    "print(end - start)"
   ]
  },
  {
   "cell_type": "code",
   "execution_count": 19,
   "metadata": {},
   "outputs": [
    {
     "name": "stdout",
     "output_type": "stream",
     "text": [
      "1289007\n"
     ]
    }
   ],
   "source": [
    "#test set\n",
    "total = 10000\n",
    "test_set_d = x_test[0:total]\n",
    "test_output = y_test.values[0:total, :]\n",
    "test_set = word_embedding_glove_total(test_set_d)\n",
    "#test_set = base_glove_total(test_set_d)\n",
    "print(len(glove))"
   ]
  },
  {
   "cell_type": "code",
   "execution_count": 21,
   "metadata": {},
   "outputs": [
    {
     "name": "stdout",
     "output_type": "stream",
     "text": [
      "8617\n"
     ]
    }
   ],
   "source": [
    "#then do the testing\n",
    "#first test on 10000 set\n",
    "correct = 0\n",
    "\n",
    "\n",
    "with torch.no_grad():\n",
    "    x_t = torch.cuda.FloatTensor(test_set)\n",
    "    y_t = torch.cuda.FloatTensor(test_output)\n",
    "    y_pred = model(x_t)\n",
    "    y_pred = y_pred.reshape((total, 6))\n",
    "    y_pred_c = y_pred > 0.6\n",
    "    y_pred_c = y_pred_c.type(torch.cuda.FloatTensor)\n",
    "    for i in range(total):\n",
    "        if torch.equal(y_pred_c[i], y_t[i]):\n",
    "            correct = correct + 1\n",
    "    print(correct)"
   ]
  },
  {
   "cell_type": "code",
   "execution_count": null,
   "metadata": {
    "collapsed": true
   },
   "outputs": [],
   "source": []
  }
 ],
 "metadata": {
  "kernelspec": {
   "display_name": "Python 3",
   "language": "python",
   "name": "python3"
  },
  "language_info": {
   "codemirror_mode": {
    "name": "ipython",
    "version": 3
   },
   "file_extension": ".py",
   "mimetype": "text/x-python",
   "name": "python",
   "nbconvert_exporter": "python",
   "pygments_lexer": "ipython3",
   "version": "3.6.3"
  }
 },
 "nbformat": 4,
 "nbformat_minor": 2
}
